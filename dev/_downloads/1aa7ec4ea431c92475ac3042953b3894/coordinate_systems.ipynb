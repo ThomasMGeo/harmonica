{
 "cells": [
  {
   "cell_type": "code",
   "execution_count": 1,
   "id": "f0c5d389",
   "metadata": {
    "execution": {
     "iopub.execute_input": "2024-08-12T22:34:12.968297Z",
     "iopub.status.busy": "2024-08-12T22:34:12.968129Z",
     "iopub.status.idle": "2024-08-12T22:34:13.866522Z",
     "shell.execute_reply": "2024-08-12T22:34:13.866021Z"
    }
   },
   "outputs": [],
   "source": [
    "import verde as vd\n",
    "\n",
    "# Define boundaries of the rectangular prism (in meters)\n",
    "west, east, south, north = -20, 20, -20, 20\n",
    "bottom, top = -40, -20\n",
    "prism = [west, east, south, north, bottom, top]"
   ]
  },
  {
   "cell_type": "code",
   "execution_count": 2,
   "id": "7242b61f",
   "metadata": {
    "execution": {
     "iopub.execute_input": "2024-08-12T22:34:13.868700Z",
     "iopub.status.busy": "2024-08-12T22:34:13.868414Z",
     "iopub.status.idle": "2024-08-12T22:34:13.872490Z",
     "shell.execute_reply": "2024-08-12T22:34:13.872112Z"
    }
   },
   "outputs": [
    {
     "name": "stdout",
     "output_type": "stream",
     "text": [
      "easting: [[-40. -20.   0.  20.  40.]\n",
      " [-40. -20.   0.  20.  40.]\n",
      " [-40. -20.   0.  20.  40.]\n",
      " [-40. -20.   0.  20.  40.]\n",
      " [-40. -20.   0.  20.  40.]]\n",
      "northing: [[-40. -40. -40. -40. -40.]\n",
      " [-20. -20. -20. -20. -20.]\n",
      " [  0.   0.   0.   0.   0.]\n",
      " [ 20.  20.  20.  20.  20.]\n",
      " [ 40.  40.  40.  40.  40.]]\n",
      "upward: [[100. 100. 100. 100. 100.]\n",
      " [100. 100. 100. 100. 100.]\n",
      " [100. 100. 100. 100. 100.]\n",
      " [100. 100. 100. 100. 100.]\n",
      " [100. 100. 100. 100. 100.]]\n"
     ]
    }
   ],
   "source": [
    "# Define a regular grid of observation points (coordinates in meters)\n",
    "coordinates = vd.grid_coordinates(\n",
    "    region=(-40, 40, -40, 40), shape=(5, 5), extra_coords=100\n",
    ")\n",
    "easting, northing, upward = coordinates[:]\n",
    "\n",
    "print(\"easting:\", easting)\n",
    "print(\"northing:\", northing)\n",
    "print(\"upward:\", upward)"
   ]
  },
  {
   "cell_type": "code",
   "execution_count": 3,
   "id": "2ff781d9",
   "metadata": {
    "execution": {
     "iopub.execute_input": "2024-08-12T22:34:13.874277Z",
     "iopub.status.busy": "2024-08-12T22:34:13.874111Z",
     "iopub.status.idle": "2024-08-12T22:34:13.876663Z",
     "shell.execute_reply": "2024-08-12T22:34:13.876219Z"
    }
   },
   "outputs": [
    {
     "name": "stdout",
     "output_type": "stream",
     "text": [
      "Point 1 is higher than point 2? False\n"
     ]
    }
   ],
   "source": [
    "# Define two points\n",
    "point_1 = (30, 20, -67)\n",
    "point_2 = (30, 20, -58)\n",
    "print(\"Point 1 is higher than point 2?\", point_1[2] > point_2[2])"
   ]
  },
  {
   "cell_type": "code",
   "execution_count": 4,
   "id": "e445d868",
   "metadata": {
    "execution": {
     "iopub.execute_input": "2024-08-12T22:34:13.878325Z",
     "iopub.status.busy": "2024-08-12T22:34:13.878161Z",
     "iopub.status.idle": "2024-08-12T22:34:13.882050Z",
     "shell.execute_reply": "2024-08-12T22:34:13.881637Z"
    }
   },
   "outputs": [
    {
     "name": "stdout",
     "output_type": "stream",
     "text": [
      "longitude: [[-70. -69. -68. -67. -66. -65.]\n",
      " [-70. -69. -68. -67. -66. -65.]\n",
      " [-70. -69. -68. -67. -66. -65.]\n",
      " [-70. -69. -68. -67. -66. -65.]\n",
      " [-70. -69. -68. -67. -66. -65.]\n",
      " [-70. -69. -68. -67. -66. -65.]]\n",
      "latitude: [[-35. -35. -35. -35. -35. -35.]\n",
      " [-34. -34. -34. -34. -34. -34.]\n",
      " [-33. -33. -33. -33. -33. -33.]\n",
      " [-32. -32. -32. -32. -32. -32.]\n",
      " [-31. -31. -31. -31. -31. -31.]\n",
      " [-30. -30. -30. -30. -30. -30.]]\n",
      "height: [[2000. 2000. 2000. 2000. 2000. 2000.]\n",
      " [2000. 2000. 2000. 2000. 2000. 2000.]\n",
      " [2000. 2000. 2000. 2000. 2000. 2000.]\n",
      " [2000. 2000. 2000. 2000. 2000. 2000.]\n",
      " [2000. 2000. 2000. 2000. 2000. 2000.]\n",
      " [2000. 2000. 2000. 2000. 2000. 2000.]]\n"
     ]
    }
   ],
   "source": [
    "coordinates = vd.grid_coordinates(\n",
    "    region=(-70, -65, -35, -30), shape=(6, 6), extra_coords=2e3\n",
    ")\n",
    "longitude, latitude, height = coordinates[:]\n",
    "print(\"longitude:\", longitude)\n",
    "print(\"latitude:\", latitude)\n",
    "print(\"height:\", height)"
   ]
  },
  {
   "cell_type": "code",
   "execution_count": 5,
   "id": "8d02a3da",
   "metadata": {
    "execution": {
     "iopub.execute_input": "2024-08-12T22:34:13.883603Z",
     "iopub.status.busy": "2024-08-12T22:34:13.883444Z",
     "iopub.status.idle": "2024-08-12T22:34:13.900428Z",
     "shell.execute_reply": "2024-08-12T22:34:13.899952Z"
    }
   },
   "outputs": [
    {
     "name": "stdout",
     "output_type": "stream",
     "text": [
      "Ellipsoid(name='WGS84', semimajor_axis=6378137, flattening=0.0033528106647474805, geocentric_grav_const=398600441800000.0, angular_velocity=7.292115e-05, long_name='World Geodetic System 1984', reference='Hofmann-Wellenhof, B., & Moritz, H. (2006). Physical Geodesy (2nd, corr. ed. 2006 edition ed.). Wien\\u202f; New York: Springer.')\n"
     ]
    }
   ],
   "source": [
    "import boule as bl\n",
    "\n",
    "ellipsoid = bl.WGS84\n",
    "print(ellipsoid)"
   ]
  },
  {
   "cell_type": "code",
   "execution_count": 6,
   "id": "f970e451",
   "metadata": {
    "execution": {
     "iopub.execute_input": "2024-08-12T22:34:13.902253Z",
     "iopub.status.busy": "2024-08-12T22:34:13.901996Z",
     "iopub.status.idle": "2024-08-12T22:34:13.927597Z",
     "shell.execute_reply": "2024-08-12T22:34:13.927169Z"
    }
   },
   "outputs": [
    {
     "name": "stdout",
     "output_type": "stream",
     "text": [
      "easting: [[-7792364.35552915 -7681044.86473588 -7569725.3739426  -7458405.88314933\n",
      "  -7347086.39235606 -7235766.90156278]\n",
      " [-7792364.35552915 -7681044.86473588 -7569725.3739426  -7458405.88314933\n",
      "  -7347086.39235606 -7235766.90156278]\n",
      " [-7792364.35552915 -7681044.86473588 -7569725.3739426  -7458405.88314933\n",
      "  -7347086.39235606 -7235766.90156278]\n",
      " [-7792364.35552915 -7681044.86473588 -7569725.3739426  -7458405.88314933\n",
      "  -7347086.39235606 -7235766.90156278]\n",
      " [-7792364.35552915 -7681044.86473588 -7569725.3739426  -7458405.88314933\n",
      "  -7347086.39235606 -7235766.90156278]\n",
      " [-7792364.35552915 -7681044.86473588 -7569725.3739426  -7458405.88314933\n",
      "  -7347086.39235606 -7235766.90156278]]\n",
      "northing: [[-4139372.7622473  -4139372.7622473  -4139372.7622473  -4139372.7622473\n",
      "  -4139372.7622473  -4139372.7622473 ]\n",
      " [-4004909.10948031 -4004909.10948031 -4004909.10948031 -4004909.10948031\n",
      "  -4004909.10948031 -4004909.10948031]\n",
      " [-3872033.73289718 -3872033.73289718 -3872033.73289718 -3872033.73289718\n",
      "  -3872033.73289718 -3872033.73289718]\n",
      " [-3740670.1135821  -3740670.1135821  -3740670.1135821  -3740670.1135821\n",
      "  -3740670.1135821  -3740670.1135821 ]\n",
      " [-3610745.18533098 -3610745.18533098 -3610745.18533098 -3610745.18533098\n",
      "  -3610745.18533098 -3610745.18533098]\n",
      " [-3482189.08540862 -3482189.08540862 -3482189.08540862 -3482189.08540862\n",
      "  -3482189.08540862 -3482189.08540862]]\n"
     ]
    }
   ],
   "source": [
    "import pyproj\n",
    "\n",
    "# Define a Mercator projection through pyproj\n",
    "projection = pyproj.Proj(proj=\"merc\", ellps=\"WGS84\")\n",
    "\n",
    "# Project the longitude and latitude coordinates of the grid points\n",
    "longitude, latitude = coordinates[:2]\n",
    "easting, northing = projection(longitude, latitude)\n",
    "\n",
    "print(\"easting:\", easting)\n",
    "print(\"northing:\", northing)"
   ]
  },
  {
   "cell_type": "code",
   "execution_count": 7,
   "id": "02b80b44",
   "metadata": {
    "execution": {
     "iopub.execute_input": "2024-08-12T22:34:13.929520Z",
     "iopub.status.busy": "2024-08-12T22:34:13.929091Z",
     "iopub.status.idle": "2024-08-12T22:34:13.933135Z",
     "shell.execute_reply": "2024-08-12T22:34:13.932702Z"
    }
   },
   "outputs": [
    {
     "name": "stdout",
     "output_type": "stream",
     "text": [
      "longitude: [[-70. -69. -68. -67. -66. -65.]\n",
      " [-70. -69. -68. -67. -66. -65.]\n",
      " [-70. -69. -68. -67. -66. -65.]\n",
      " [-70. -69. -68. -67. -66. -65.]\n",
      " [-70. -69. -68. -67. -66. -65.]\n",
      " [-70. -69. -68. -67. -66. -65.]]\n",
      "spherical latitude: [[-35. -35. -35. -35. -35. -35.]\n",
      " [-34. -34. -34. -34. -34. -34.]\n",
      " [-33. -33. -33. -33. -33. -33.]\n",
      " [-32. -32. -32. -32. -32. -32.]\n",
      " [-31. -31. -31. -31. -31. -31.]\n",
      " [-30. -30. -30. -30. -30. -30.]]\n",
      "radius: [[6371008.77141506 6371008.77141506 6371008.77141506 6371008.77141506\n",
      "  6371008.77141506 6371008.77141506]\n",
      " [6371008.77141506 6371008.77141506 6371008.77141506 6371008.77141506\n",
      "  6371008.77141506 6371008.77141506]\n",
      " [6371008.77141506 6371008.77141506 6371008.77141506 6371008.77141506\n",
      "  6371008.77141506 6371008.77141506]\n",
      " [6371008.77141506 6371008.77141506 6371008.77141506 6371008.77141506\n",
      "  6371008.77141506 6371008.77141506]\n",
      " [6371008.77141506 6371008.77141506 6371008.77141506 6371008.77141506\n",
      "  6371008.77141506 6371008.77141506]\n",
      " [6371008.77141506 6371008.77141506 6371008.77141506 6371008.77141506\n",
      "  6371008.77141506 6371008.77141506]]\n"
     ]
    }
   ],
   "source": [
    "coordinates = vd.grid_coordinates(\n",
    "    region=(-70, -65, -35, -30),\n",
    "    shape=(6, 6),\n",
    "    extra_coords=ellipsoid.mean_radius,\n",
    ")\n",
    "longitude, sph_latitude, radius = coordinates[:]\n",
    "print(\"longitude:\", longitude)\n",
    "print(\"spherical latitude:\", sph_latitude)\n",
    "print(\"radius:\", radius)"
   ]
  },
  {
   "cell_type": "code",
   "execution_count": 8,
   "id": "9f7d97ef",
   "metadata": {
    "execution": {
     "iopub.execute_input": "2024-08-12T22:34:13.934874Z",
     "iopub.status.busy": "2024-08-12T22:34:13.934588Z",
     "iopub.status.idle": "2024-08-12T22:34:13.938255Z",
     "shell.execute_reply": "2024-08-12T22:34:13.937810Z"
    }
   },
   "outputs": [
    {
     "name": "stdout",
     "output_type": "stream",
     "text": [
      "longitude: [[-70. -69. -68. -67. -66. -65.]\n",
      " [-70. -69. -68. -67. -66. -65.]\n",
      " [-70. -69. -68. -67. -66. -65.]\n",
      " [-70. -69. -68. -67. -66. -65.]\n",
      " [-70. -69. -68. -67. -66. -65.]\n",
      " [-70. -69. -68. -67. -66. -65.]]\n",
      "latitude: [[-35.18102866 -35.18102866 -35.18102866 -35.18102866 -35.18102866\n",
      "  -35.18102866]\n",
      " [-34.17864829 -34.17864829 -34.17864829 -34.17864829 -34.17864829\n",
      "  -34.17864829]\n",
      " [-33.17604904 -33.17604904 -33.17604904 -33.17604904 -33.17604904\n",
      "  -33.17604904]\n",
      " [-32.17323399 -32.17323399 -32.17323399 -32.17323399 -32.17323399\n",
      "  -32.17323399]\n",
      " [-31.17020649 -31.17020649 -31.17020649 -31.17020649 -31.17020649\n",
      "  -31.17020649]\n",
      " [-30.16697016 -30.16697016 -30.16697016 -30.16697016 -30.16697016\n",
      "  -30.16697016]]\n",
      "height: [[  -69.07752705   -69.07752705   -69.07752705   -69.07752705\n",
      "    -69.07752705   -69.07752705]\n",
      " [ -418.12875198  -418.12875198  -418.12875198  -418.12875198\n",
      "   -418.12875198  -418.12875198]\n",
      " [ -762.34749847  -762.34749847  -762.34749847  -762.34749847\n",
      "   -762.34749847  -762.34749847]\n",
      " [-1101.31193327 -1101.31193327 -1101.31193327 -1101.31193327\n",
      "  -1101.31193327 -1101.31193327]\n",
      " [-1434.60646097 -1434.60646097 -1434.60646097 -1434.60646097\n",
      "  -1434.60646097 -1434.60646097]\n",
      " [-1761.8222431  -1761.8222431  -1761.8222431  -1761.8222431\n",
      "  -1761.8222431  -1761.8222431 ]]\n"
     ]
    }
   ],
   "source": [
    "coordinates_geodetic = ellipsoid.spherical_to_geodetic(*coordinates)\n",
    "longitude, latitude, height = coordinates_geodetic[:]\n",
    "print(\"longitude:\", longitude)\n",
    "print(\"latitude:\", latitude)\n",
    "print(\"height:\", height)"
   ]
  },
  {
   "cell_type": "code",
   "execution_count": 9,
   "id": "b1c71072",
   "metadata": {
    "execution": {
     "iopub.execute_input": "2024-08-12T22:34:13.940089Z",
     "iopub.status.busy": "2024-08-12T22:34:13.939700Z",
     "iopub.status.idle": "2024-08-12T22:34:13.943336Z",
     "shell.execute_reply": "2024-08-12T22:34:13.942887Z"
    }
   },
   "outputs": [
    {
     "name": "stdout",
     "output_type": "stream",
     "text": [
      "longitude: [[-70. -69. -68. -67. -66. -65.]\n",
      " [-70. -69. -68. -67. -66. -65.]\n",
      " [-70. -69. -68. -67. -66. -65.]\n",
      " [-70. -69. -68. -67. -66. -65.]\n",
      " [-70. -69. -68. -67. -66. -65.]\n",
      " [-70. -69. -68. -67. -66. -65.]]\n",
      "spherical latitude: [[-35. -35. -35. -35. -35. -35.]\n",
      " [-34. -34. -34. -34. -34. -34.]\n",
      " [-33. -33. -33. -33. -33. -33.]\n",
      " [-32. -32. -32. -32. -32. -32.]\n",
      " [-31. -31. -31. -31. -31. -31.]\n",
      " [-30. -30. -30. -30. -30. -30.]]\n",
      "radius: [[6371008.77141506 6371008.77141506 6371008.77141506 6371008.77141506\n",
      "  6371008.77141506 6371008.77141506]\n",
      " [6371008.77141506 6371008.77141506 6371008.77141506 6371008.77141506\n",
      "  6371008.77141506 6371008.77141506]\n",
      " [6371008.77141506 6371008.77141506 6371008.77141506 6371008.77141506\n",
      "  6371008.77141506 6371008.77141506]\n",
      " [6371008.77141506 6371008.77141506 6371008.77141506 6371008.77141506\n",
      "  6371008.77141506 6371008.77141506]\n",
      " [6371008.77141506 6371008.77141506 6371008.77141506 6371008.77141506\n",
      "  6371008.77141506 6371008.77141506]\n",
      " [6371008.77141506 6371008.77141506 6371008.77141506 6371008.77141506\n",
      "  6371008.77141506 6371008.77141506]]\n"
     ]
    }
   ],
   "source": [
    "coordinates_spherical = ellipsoid.geodetic_to_spherical(*coordinates_geodetic)\n",
    "longitude, sph_latitude, radius = coordinates_spherical[:]\n",
    "print(\"longitude:\", longitude)\n",
    "print(\"spherical latitude:\", sph_latitude)\n",
    "print(\"radius:\", radius)"
   ]
  }
 ],
 "metadata": {
  "kernelspec": {
   "display_name": "Python 3 (ipykernel)",
   "language": "python",
   "name": "python3"
  },
  "language_info": {
   "codemirror_mode": {
    "name": "ipython",
    "version": 3
   },
   "file_extension": ".py",
   "mimetype": "text/x-python",
   "name": "python",
   "nbconvert_exporter": "python",
   "pygments_lexer": "ipython3",
   "version": "3.12.5"
  }
 },
 "nbformat": 4,
 "nbformat_minor": 5
}