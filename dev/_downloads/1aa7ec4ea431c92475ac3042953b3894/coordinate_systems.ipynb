{
 "cells": [
  {
   "cell_type": "code",
   "execution_count": 1,
   "id": "21831a53",
   "metadata": {
    "execution": {
     "iopub.execute_input": "2024-10-08T18:39:25.834589Z",
     "iopub.status.busy": "2024-10-08T18:39:25.834217Z",
     "iopub.status.idle": "2024-10-08T18:39:26.770642Z",
     "shell.execute_reply": "2024-10-08T18:39:26.769940Z"
    }
   },
   "outputs": [],
   "source": [
    "import verde as vd\n",
    "\n",
    "# Define boundaries of the rectangular prism (in meters)\n",
    "west, east, south, north = -20, 20, -20, 20\n",
    "bottom, top = -40, -20\n",
    "prism = [west, east, south, north, bottom, top]"
   ]
  },
  {
   "cell_type": "code",
   "execution_count": 2,
   "id": "d1801aec",
   "metadata": {
    "execution": {
     "iopub.execute_input": "2024-10-08T18:39:26.773070Z",
     "iopub.status.busy": "2024-10-08T18:39:26.772424Z",
     "iopub.status.idle": "2024-10-08T18:39:26.777451Z",
     "shell.execute_reply": "2024-10-08T18:39:26.777020Z"
    }
   },
   "outputs": [
    {
     "name": "stdout",
     "output_type": "stream",
     "text": [
      "easting: [[-40. -20.   0.  20.  40.]\n",
      " [-40. -20.   0.  20.  40.]\n",
      " [-40. -20.   0.  20.  40.]\n",
      " [-40. -20.   0.  20.  40.]\n",
      " [-40. -20.   0.  20.  40.]]\n",
      "northing: [[-40. -40. -40. -40. -40.]\n",
      " [-20. -20. -20. -20. -20.]\n",
      " [  0.   0.   0.   0.   0.]\n",
      " [ 20.  20.  20.  20.  20.]\n",
      " [ 40.  40.  40.  40.  40.]]\n",
      "upward: [[100. 100. 100. 100. 100.]\n",
      " [100. 100. 100. 100. 100.]\n",
      " [100. 100. 100. 100. 100.]\n",
      " [100. 100. 100. 100. 100.]\n",
      " [100. 100. 100. 100. 100.]]\n"
     ]
    }
   ],
   "source": [
    "# Define a regular grid of observation points (coordinates in meters)\n",
    "coordinates = vd.grid_coordinates(\n",
    "    region=(-40, 40, -40, 40), shape=(5, 5), extra_coords=100\n",
    ")\n",
    "easting, northing, upward = coordinates[:]\n",
    "\n",
    "print(\"easting:\", easting)\n",
    "print(\"northing:\", northing)\n",
    "print(\"upward:\", upward)"
   ]
  },
  {
   "cell_type": "code",
   "execution_count": 3,
   "id": "bc50b883",
   "metadata": {
    "execution": {
     "iopub.execute_input": "2024-10-08T18:39:26.778996Z",
     "iopub.status.busy": "2024-10-08T18:39:26.778599Z",
     "iopub.status.idle": "2024-10-08T18:39:26.781439Z",
     "shell.execute_reply": "2024-10-08T18:39:26.781030Z"
    }
   },
   "outputs": [
    {
     "name": "stdout",
     "output_type": "stream",
     "text": [
      "Point 1 is higher than point 2? False\n"
     ]
    }
   ],
   "source": [
    "# Define two points\n",
    "point_1 = (30, 20, -67)\n",
    "point_2 = (30, 20, -58)\n",
    "print(\"Point 1 is higher than point 2?\", point_1[2] > point_2[2])"
   ]
  },
  {
   "cell_type": "code",
   "execution_count": 4,
   "id": "a476ea96",
   "metadata": {
    "execution": {
     "iopub.execute_input": "2024-10-08T18:39:26.782913Z",
     "iopub.status.busy": "2024-10-08T18:39:26.782608Z",
     "iopub.status.idle": "2024-10-08T18:39:26.786214Z",
     "shell.execute_reply": "2024-10-08T18:39:26.785826Z"
    }
   },
   "outputs": [
    {
     "name": "stdout",
     "output_type": "stream",
     "text": [
      "longitude: [[-70. -69. -68. -67. -66. -65.]\n",
      " [-70. -69. -68. -67. -66. -65.]\n",
      " [-70. -69. -68. -67. -66. -65.]\n",
      " [-70. -69. -68. -67. -66. -65.]\n",
      " [-70. -69. -68. -67. -66. -65.]\n",
      " [-70. -69. -68. -67. -66. -65.]]\n",
      "latitude: [[-35. -35. -35. -35. -35. -35.]\n",
      " [-34. -34. -34. -34. -34. -34.]\n",
      " [-33. -33. -33. -33. -33. -33.]\n",
      " [-32. -32. -32. -32. -32. -32.]\n",
      " [-31. -31. -31. -31. -31. -31.]\n",
      " [-30. -30. -30. -30. -30. -30.]]\n",
      "height: [[2000. 2000. 2000. 2000. 2000. 2000.]\n",
      " [2000. 2000. 2000. 2000. 2000. 2000.]\n",
      " [2000. 2000. 2000. 2000. 2000. 2000.]\n",
      " [2000. 2000. 2000. 2000. 2000. 2000.]\n",
      " [2000. 2000. 2000. 2000. 2000. 2000.]\n",
      " [2000. 2000. 2000. 2000. 2000. 2000.]]\n"
     ]
    }
   ],
   "source": [
    "coordinates = vd.grid_coordinates(\n",
    "    region=(-70, -65, -35, -30), shape=(6, 6), extra_coords=2e3\n",
    ")\n",
    "longitude, latitude, height = coordinates[:]\n",
    "print(\"longitude:\", longitude)\n",
    "print(\"latitude:\", latitude)\n",
    "print(\"height:\", height)"
   ]
  },
  {
   "cell_type": "code",
   "execution_count": 5,
   "id": "f8961ef9",
   "metadata": {
    "execution": {
     "iopub.execute_input": "2024-10-08T18:39:26.787526Z",
     "iopub.status.busy": "2024-10-08T18:39:26.787369Z",
     "iopub.status.idle": "2024-10-08T18:39:26.803986Z",
     "shell.execute_reply": "2024-10-08T18:39:26.803505Z"
    }
   },
   "outputs": [
    {
     "name": "stdout",
     "output_type": "stream",
     "text": [
      "Ellipsoid(name='WGS84', semimajor_axis=6378137, flattening=0.0033528106647474805, geocentric_grav_const=398600441800000.0, angular_velocity=7.292115e-05, long_name='World Geodetic System 1984', reference='Hofmann-Wellenhof, B., & Moritz, H. (2006). Physical Geodesy (2nd, corr. ed. 2006 edition ed.). Wien\\u202f; New York: Springer.')\n"
     ]
    }
   ],
   "source": [
    "import boule as bl\n",
    "\n",
    "ellipsoid = bl.WGS84\n",
    "print(ellipsoid)"
   ]
  },
  {
   "cell_type": "code",
   "execution_count": 6,
   "id": "4fc070d6",
   "metadata": {
    "execution": {
     "iopub.execute_input": "2024-10-08T18:39:26.805292Z",
     "iopub.status.busy": "2024-10-08T18:39:26.805110Z",
     "iopub.status.idle": "2024-10-08T18:39:26.831716Z",
     "shell.execute_reply": "2024-10-08T18:39:26.831241Z"
    }
   },
   "outputs": [
    {
     "name": "stdout",
     "output_type": "stream",
     "text": [
      "easting: [[-7792364.35552915 -7681044.86473588 -7569725.3739426  -7458405.88314933\n",
      "  -7347086.39235606 -7235766.90156278]\n",
      " [-7792364.35552915 -7681044.86473588 -7569725.3739426  -7458405.88314933\n",
      "  -7347086.39235606 -7235766.90156278]\n",
      " [-7792364.35552915 -7681044.86473588 -7569725.3739426  -7458405.88314933\n",
      "  -7347086.39235606 -7235766.90156278]\n",
      " [-7792364.35552915 -7681044.86473588 -7569725.3739426  -7458405.88314933\n",
      "  -7347086.39235606 -7235766.90156278]\n",
      " [-7792364.35552915 -7681044.86473588 -7569725.3739426  -7458405.88314933\n",
      "  -7347086.39235606 -7235766.90156278]\n",
      " [-7792364.35552915 -7681044.86473588 -7569725.3739426  -7458405.88314933\n",
      "  -7347086.39235606 -7235766.90156278]]\n",
      "northing: [[-4139372.7622473  -4139372.7622473  -4139372.7622473  -4139372.7622473\n",
      "  -4139372.7622473  -4139372.7622473 ]\n",
      " [-4004909.10948031 -4004909.10948031 -4004909.10948031 -4004909.10948031\n",
      "  -4004909.10948031 -4004909.10948031]\n",
      " [-3872033.73289718 -3872033.73289718 -3872033.73289718 -3872033.73289718\n",
      "  -3872033.73289718 -3872033.73289718]\n",
      " [-3740670.1135821  -3740670.1135821  -3740670.1135821  -3740670.1135821\n",
      "  -3740670.1135821  -3740670.1135821 ]\n",
      " [-3610745.18533098 -3610745.18533098 -3610745.18533098 -3610745.18533098\n",
      "  -3610745.18533098 -3610745.18533098]\n",
      " [-3482189.08540862 -3482189.08540862 -3482189.08540862 -3482189.08540862\n",
      "  -3482189.08540862 -3482189.08540862]]\n"
     ]
    }
   ],
   "source": [
    "import pyproj\n",
    "\n",
    "# Define a Mercator projection through pyproj\n",
    "projection = pyproj.Proj(proj=\"merc\", ellps=\"WGS84\")\n",
    "\n",
    "# Project the longitude and latitude coordinates of the grid points\n",
    "longitude, latitude = coordinates[:2]\n",
    "easting, northing = projection(longitude, latitude)\n",
    "\n",
    "print(\"easting:\", easting)\n",
    "print(\"northing:\", northing)"
   ]
  },
  {
   "cell_type": "code",
   "execution_count": 7,
   "id": "9805e865",
   "metadata": {
    "execution": {
     "iopub.execute_input": "2024-10-08T18:39:26.833297Z",
     "iopub.status.busy": "2024-10-08T18:39:26.832892Z",
     "iopub.status.idle": "2024-10-08T18:39:26.836871Z",
     "shell.execute_reply": "2024-10-08T18:39:26.836406Z"
    }
   },
   "outputs": [
    {
     "name": "stdout",
     "output_type": "stream",
     "text": [
      "longitude: [[-70. -69. -68. -67. -66. -65.]\n",
      " [-70. -69. -68. -67. -66. -65.]\n",
      " [-70. -69. -68. -67. -66. -65.]\n",
      " [-70. -69. -68. -67. -66. -65.]\n",
      " [-70. -69. -68. -67. -66. -65.]\n",
      " [-70. -69. -68. -67. -66. -65.]]\n",
      "spherical latitude: [[-35. -35. -35. -35. -35. -35.]\n",
      " [-34. -34. -34. -34. -34. -34.]\n",
      " [-33. -33. -33. -33. -33. -33.]\n",
      " [-32. -32. -32. -32. -32. -32.]\n",
      " [-31. -31. -31. -31. -31. -31.]\n",
      " [-30. -30. -30. -30. -30. -30.]]\n",
      "radius: [[6371008.77141506 6371008.77141506 6371008.77141506 6371008.77141506\n",
      "  6371008.77141506 6371008.77141506]\n",
      " [6371008.77141506 6371008.77141506 6371008.77141506 6371008.77141506\n",
      "  6371008.77141506 6371008.77141506]\n",
      " [6371008.77141506 6371008.77141506 6371008.77141506 6371008.77141506\n",
      "  6371008.77141506 6371008.77141506]\n",
      " [6371008.77141506 6371008.77141506 6371008.77141506 6371008.77141506\n",
      "  6371008.77141506 6371008.77141506]\n",
      " [6371008.77141506 6371008.77141506 6371008.77141506 6371008.77141506\n",
      "  6371008.77141506 6371008.77141506]\n",
      " [6371008.77141506 6371008.77141506 6371008.77141506 6371008.77141506\n",
      "  6371008.77141506 6371008.77141506]]\n"
     ]
    }
   ],
   "source": [
    "coordinates = vd.grid_coordinates(\n",
    "    region=(-70, -65, -35, -30),\n",
    "    shape=(6, 6),\n",
    "    extra_coords=ellipsoid.mean_radius,\n",
    ")\n",
    "longitude, sph_latitude, radius = coordinates[:]\n",
    "print(\"longitude:\", longitude)\n",
    "print(\"spherical latitude:\", sph_latitude)\n",
    "print(\"radius:\", radius)"
   ]
  },
  {
   "cell_type": "code",
   "execution_count": 8,
   "id": "7910192c",
   "metadata": {
    "execution": {
     "iopub.execute_input": "2024-10-08T18:39:26.838143Z",
     "iopub.status.busy": "2024-10-08T18:39:26.837995Z",
     "iopub.status.idle": "2024-10-08T18:39:26.841841Z",
     "shell.execute_reply": "2024-10-08T18:39:26.841404Z"
    }
   },
   "outputs": [
    {
     "name": "stdout",
     "output_type": "stream",
     "text": [
      "longitude: [[-70. -69. -68. -67. -66. -65.]\n",
      " [-70. -69. -68. -67. -66. -65.]\n",
      " [-70. -69. -68. -67. -66. -65.]\n",
      " [-70. -69. -68. -67. -66. -65.]\n",
      " [-70. -69. -68. -67. -66. -65.]\n",
      " [-70. -69. -68. -67. -66. -65.]]\n",
      "latitude: [[-35.18102866 -35.18102866 -35.18102866 -35.18102866 -35.18102866\n",
      "  -35.18102866]\n",
      " [-34.17864829 -34.17864829 -34.17864829 -34.17864829 -34.17864829\n",
      "  -34.17864829]\n",
      " [-33.17604904 -33.17604904 -33.17604904 -33.17604904 -33.17604904\n",
      "  -33.17604904]\n",
      " [-32.17323399 -32.17323399 -32.17323399 -32.17323399 -32.17323399\n",
      "  -32.17323399]\n",
      " [-31.17020649 -31.17020649 -31.17020649 -31.17020649 -31.17020649\n",
      "  -31.17020649]\n",
      " [-30.16697016 -30.16697016 -30.16697016 -30.16697016 -30.16697016\n",
      "  -30.16697016]]\n",
      "height: [[  -69.07752705   -69.07752705   -69.07752705   -69.07752705\n",
      "    -69.07752705   -69.07752705]\n",
      " [ -418.12875198  -418.12875198  -418.12875198  -418.12875198\n",
      "   -418.12875198  -418.12875198]\n",
      " [ -762.34749847  -762.34749847  -762.34749847  -762.34749847\n",
      "   -762.34749847  -762.34749847]\n",
      " [-1101.31193327 -1101.31193327 -1101.31193327 -1101.31193327\n",
      "  -1101.31193327 -1101.31193327]\n",
      " [-1434.60646097 -1434.60646097 -1434.60646097 -1434.60646097\n",
      "  -1434.60646097 -1434.60646097]\n",
      " [-1761.8222431  -1761.8222431  -1761.8222431  -1761.8222431\n",
      "  -1761.8222431  -1761.8222431 ]]\n"
     ]
    }
   ],
   "source": [
    "coordinates_geodetic = ellipsoid.spherical_to_geodetic(*coordinates)\n",
    "longitude, latitude, height = coordinates_geodetic[:]\n",
    "print(\"longitude:\", longitude)\n",
    "print(\"latitude:\", latitude)\n",
    "print(\"height:\", height)"
   ]
  },
  {
   "cell_type": "code",
   "execution_count": 9,
   "id": "fd24f2c2",
   "metadata": {
    "execution": {
     "iopub.execute_input": "2024-10-08T18:39:26.843138Z",
     "iopub.status.busy": "2024-10-08T18:39:26.842985Z",
     "iopub.status.idle": "2024-10-08T18:39:26.846307Z",
     "shell.execute_reply": "2024-10-08T18:39:26.845908Z"
    }
   },
   "outputs": [
    {
     "name": "stdout",
     "output_type": "stream",
     "text": [
      "longitude: [[-70. -69. -68. -67. -66. -65.]\n",
      " [-70. -69. -68. -67. -66. -65.]\n",
      " [-70. -69. -68. -67. -66. -65.]\n",
      " [-70. -69. -68. -67. -66. -65.]\n",
      " [-70. -69. -68. -67. -66. -65.]\n",
      " [-70. -69. -68. -67. -66. -65.]]\n",
      "spherical latitude: [[-35. -35. -35. -35. -35. -35.]\n",
      " [-34. -34. -34. -34. -34. -34.]\n",
      " [-33. -33. -33. -33. -33. -33.]\n",
      " [-32. -32. -32. -32. -32. -32.]\n",
      " [-31. -31. -31. -31. -31. -31.]\n",
      " [-30. -30. -30. -30. -30. -30.]]\n",
      "radius: [[6371008.77141506 6371008.77141506 6371008.77141506 6371008.77141506\n",
      "  6371008.77141506 6371008.77141506]\n",
      " [6371008.77141506 6371008.77141506 6371008.77141506 6371008.77141506\n",
      "  6371008.77141506 6371008.77141506]\n",
      " [6371008.77141506 6371008.77141506 6371008.77141506 6371008.77141506\n",
      "  6371008.77141506 6371008.77141506]\n",
      " [6371008.77141506 6371008.77141506 6371008.77141506 6371008.77141506\n",
      "  6371008.77141506 6371008.77141506]\n",
      " [6371008.77141506 6371008.77141506 6371008.77141506 6371008.77141506\n",
      "  6371008.77141506 6371008.77141506]\n",
      " [6371008.77141506 6371008.77141506 6371008.77141506 6371008.77141506\n",
      "  6371008.77141506 6371008.77141506]]\n"
     ]
    }
   ],
   "source": [
    "coordinates_spherical = ellipsoid.geodetic_to_spherical(*coordinates_geodetic)\n",
    "longitude, sph_latitude, radius = coordinates_spherical[:]\n",
    "print(\"longitude:\", longitude)\n",
    "print(\"spherical latitude:\", sph_latitude)\n",
    "print(\"radius:\", radius)"
   ]
  }
 ],
 "metadata": {
  "kernelspec": {
   "display_name": "Python 3 (ipykernel)",
   "language": "python",
   "name": "python3"
  },
  "language_info": {
   "codemirror_mode": {
    "name": "ipython",
    "version": 3
   },
   "file_extension": ".py",
   "mimetype": "text/x-python",
   "name": "python",
   "nbconvert_exporter": "python",
   "pygments_lexer": "ipython3",
   "version": "3.12.7"
  }
 },
 "nbformat": 4,
 "nbformat_minor": 5
}